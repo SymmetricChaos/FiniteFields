{
 "cells": [
  {
   "cell_type": "markdown",
   "metadata": {},
   "source": [
    "Dyck Words are an"
   ]
  },
  {
   "cell_type": "code",
   "execution_count": 4,
   "metadata": {},
   "outputs": [
    {
     "name": "stdout",
     "output_type": "stream",
     "text": [
      "14\n",
      "14\n"
     ]
    },
    {
     "ename": "AttributeError",
     "evalue": "'numpy.ndarray' object has no attribute 'show'",
     "output_type": "error",
     "traceback": [
      "\u001b[1;31m---------------------------------------------------------------------------\u001b[0m",
      "\u001b[1;31mAttributeError\u001b[0m                            Traceback (most recent call last)",
      "\u001b[1;32m<ipython-input-4-40ad4a0af8f1>\u001b[0m in \u001b[0;36m<module>\u001b[1;34m()\u001b[0m\n\u001b[0;32m     28\u001b[0m             \u001b[0ma\u001b[0m\u001b[1;33m.\u001b[0m\u001b[0mbar\u001b[0m\u001b[1;33m(\u001b[0m\u001b[0mx\u001b[0m\u001b[1;33m,\u001b[0m\u001b[0my\u001b[0m\u001b[1;33m,\u001b[0m\u001b[0mwidth\u001b[0m\u001b[1;33m=\u001b[0m\u001b[1;36m.1\u001b[0m\u001b[1;33m)\u001b[0m\u001b[1;33m\u001b[0m\u001b[0m\n\u001b[0;32m     29\u001b[0m             \u001b[0mword\u001b[0m \u001b[1;33m+=\u001b[0m \u001b[1;36m1\u001b[0m\u001b[1;33m\u001b[0m\u001b[0m\n\u001b[1;32m---> 30\u001b[1;33m \u001b[0maxs\u001b[0m\u001b[1;33m.\u001b[0m\u001b[0mshow\u001b[0m\u001b[1;33m(\u001b[0m\u001b[1;33m)\u001b[0m\u001b[1;33m\u001b[0m\u001b[0m\n\u001b[0m",
      "\u001b[1;31mAttributeError\u001b[0m: 'numpy.ndarray' object has no attribute 'show'"
     ]
    }
   ],
   "source": [
    "from Combinatorics import dyck_words, catalan\n",
    "import matplotlib.pyplot as plt\n",
    "\n",
    "N = 4\n",
    "D = dyck_words(N)\n",
    "h = len(D)//5+1\n",
    "\n",
    "print(catalan(N))\n",
    "print(len(D))\n",
    "\n",
    "fig1, axs = plt.subplots(h, 5, figsize=(13, h*2.5))\n",
    "word = 0\n",
    "for ax in axs:\n",
    "    for a in ax:\n",
    "        a.set_axis_off()\n",
    "        a.set_ylim([-.5, N])\n",
    "        x = [i for i in range(2*N+1)]\n",
    "        y = [0]*len(x)\n",
    "        if word > len(D)-1:\n",
    "            continue\n",
    "        else:\n",
    "            for ctr,i in enumerate(D[word],1):\n",
    "                if i == \"(\":\n",
    "                    y[ctr] = y[ctr-1]+1\n",
    "                if i == \")\":\n",
    "                    y[ctr] = y[ctr-1]-1\n",
    "            a.plot(x,y)\n",
    "            a.bar(x,y,width=.1)\n",
    "            word += 1\n",
    "fig1.show()"
   ]
  }
 ],
 "metadata": {
  "kernelspec": {
   "display_name": "Python 3",
   "language": "python",
   "name": "python3"
  },
  "language_info": {
   "codemirror_mode": {
    "name": "ipython",
    "version": 3
   },
   "file_extension": ".py",
   "mimetype": "text/x-python",
   "name": "python",
   "nbconvert_exporter": "python",
   "pygments_lexer": "ipython3",
   "version": "3.6.6"
  }
 },
 "nbformat": 4,
 "nbformat_minor": 2
}
