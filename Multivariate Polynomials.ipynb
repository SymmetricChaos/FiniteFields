{
 "cells": [
  {
   "cell_type": "markdown",
   "metadata": {},
   "source": [
    "It is trivial to represnt a univariate polynomial on a computer simply as a list of coefficients for the terms. However creating a representation for a polynomial with multiple indeterminates is significantly more complicated. In particular we need to keep track of what indeterminates exist with what power in each and every term. Creating this directly would be a huge hassle.\n",
    "\n",
    "A better way to handle this problem is to create a very restricted computer algebra system that allows us to build up the polynomials we want from simpler parts. I can't take credit for this idea which I got from a 2004 paper by Brent Dingle.\n",
    "\n",
    "The first step is an Atom which just represents a single indeterminate raised to a power."
   ]
  },
  {
   "cell_type": "code",
   "execution_count": 1,
   "metadata": {},
   "outputs": [],
   "source": [
    "class Atom:    \n",
    "    def __init__(self,s,p=1):\n",
    "        assert type(s) == str\n",
    "        assert len(s) == 1\n",
    "        assert type(p) == int\n",
    "        assert p >= 1\n",
    "        \n",
    "        self.s = s\n",
    "        self.p = p"
   ]
  },
  {
   "cell_type": "markdown",
   "metadata": {},
   "source": [
    "We will define operations with Atoms so that specifying *p* isn't necessary in general.\n",
    "\n",
    "Next we will define a Particle which is a product of some Atoms with some coefficient that isn't an Atom. By not requiring that the coefficient be of any particular type we gain some forward compatibility if we have other numeric types. We also do not require that the Particle contain any Atoms at all which allows a Particle to be a constant."
   ]
  },
  {
   "cell_type": "code",
   "execution_count": 2,
   "metadata": {},
   "outputs": [],
   "source": [
    "class Particle:    \n",
    "    def __init__(self,A,coef=1):\n",
    "        assert type(A) == list\n",
    "        assert all([type(a) == Atom for a in A])\n",
    "        self.A = sorted(A)\n",
    "        self.coef = coef"
   ]
  },
  {
   "cell_type": "markdown",
   "metadata": {},
   "source": [
    "Note that the list of Atoms is sorted. We will see how this is done a bit later.\n",
    "\n",
    "Finally we have the MVPoly class which consists of a sum of several particles represented as a list."
   ]
  },
  {
   "cell_type": "code",
   "execution_count": 3,
   "metadata": {},
   "outputs": [],
   "source": [
    "class MVPoly:\n",
    "    def __init__(self,terms):\n",
    "        self.terms = poly_merge(sorted(terms))\n"
   ]
  },
  {
   "cell_type": "markdown",
   "metadata": {},
   "source": [
    "Again we will introduce what it means to sort and merge the terms of an MVPoly object later. \n",
    "\n",
    "To start with we want our classes to display themselves in a way that is easily comprehensible. This will make it much easier to check that things are working properly as we continue. For Atoms it is very simple. We just need to show the Atom being rasied to a power. The only special case is when the power is equal to 1 when we leave it out."
   ]
  },
  {
   "cell_type": "code",
   "execution_count": 4,
   "metadata": {},
   "outputs": [],
   "source": [
    "    def __str__(self):\n",
    "        \"\"\"Print the Atom\"\"\"\n",
    "        if self.p == 1:\n",
    "            return f\"{self.s}\"            \n",
    "        return f\"{self.s}^{self.p}\""
   ]
  },
  {
   "cell_type": "markdown",
   "metadata": {},
   "source": [
    "For Particles, which could contain any number of Atoms, along with a coefficient things are singificantly more complicated with a lot of special cases. However having defined the way that Atoms should print simplified things a lot."
   ]
  },
  {
   "cell_type": "code",
   "execution_count": 5,
   "metadata": {},
   "outputs": [],
   "source": [
    "    def __str__(self):\n",
    "        \"\"\"Print the Particle\"\"\"\n",
    "        if self.A == []:\n",
    "            return str(self.coef)\n",
    "        if self.coef == 1:\n",
    "            out = \"\"\n",
    "        elif self.coef == -1:\n",
    "            out = \"-\"\n",
    "        else:\n",
    "            out = str(self.coef)\n",
    "        for a in self.A:\n",
    "            out += str(a)\n",
    "        return out"
   ]
  },
  {
   "cell_type": "markdown",
   "metadata": {},
   "source": [
    "Fortunately getting a polynomial to print correctly is fairly easy."
   ]
  },
  {
   "cell_type": "code",
   "execution_count": 6,
   "metadata": {},
   "outputs": [],
   "source": [
    "    def __str__(self):\n",
    "        \"\"\"Print the MVPoly\"\"\"\n",
    "        out = str(self.terms[0])\n",
    "        for term in self.terms[1:]:\n",
    "            sgn = \"-\" if term.coef < 0 else \"+\"\n",
    "            out +=  \" \" + sgn + \" \" + str(abs(term))\n",
    "        return out"
   ]
  },
  {
   "cell_type": "markdown",
   "metadata": {},
   "source": [
    "However getting a polynomial represented correctly involves more than just printing out the terms. We need to make sure that we have the correct terms and that they are ordered in way that makes some sense. Atoms we will just sort in terms of the symbol for their indeterminate. This is what is typical when actually writing polynomials."
   ]
  },
  {
   "cell_type": "code",
   "execution_count": 7,
   "metadata": {},
   "outputs": [],
   "source": [
    "    def __lt__(self,other):\n",
    "        \"\"\"For sorting atoms\"\"\"\n",
    "        assert type(other) == Atom\n",
    "        return self.s < other.s"
   ]
  },
  {
   "cell_type": "markdown",
   "metadata": {},
   "source": [
    "As we saw above Particles use this when they are created. This ensure that identical Particles that have been given the Atoms in a different order still end up the same.\n",
    "\n",
    "Ordering Particles is a bit complicated and arguably has no best method. Here we first sort to put Particles with many indeterminates to the left. For Particles with the same number of coefficients the ones with higher powers are sorted to the left."
   ]
  },
  {
   "cell_type": "code",
   "execution_count": 8,
   "metadata": {},
   "outputs": [],
   "source": [
    "    def __lt__(self,other):\n",
    "        \"\"\"For sorting Particles\"\"\"\n",
    "        assert type(other) == Particle\n",
    "        # First sort by number of indeterminates\n",
    "        if len(self.A) != len(other.A):\n",
    "            return len(self.A) > len(other.A)\n",
    "        # If they are equal sort by the coefficients\n",
    "        x = sum([a.p for a in self.A])\n",
    "        y = sum([a.p for a in other.A])\n",
    "        return x > y"
   ]
  },
  {
   "cell_type": "markdown",
   "metadata": {},
   "source": [
    "Finally we need to have a way to deal with the possibility that a polynomial might end up with multiple identical terms or with terms with a zero coefficient. This can easily happen when adding or multiplying polynomials together.\n",
    "\n",
    "Here are the functions needed."
   ]
  },
  {
   "cell_type": "code",
   "execution_count": 9,
   "metadata": {},
   "outputs": [],
   "source": [
    "from itertools import groupby\n",
    "\n",
    "def particle_id(part):\n",
    "    \"\"\"Get the Particles indeterminates\"\"\"\n",
    "    out = \"\"\n",
    "    for a in part.A:\n",
    "        out += str(a)\n",
    "    return out\n",
    "\n",
    "def poly_trim(L):\n",
    "    \"\"\"Remove terms with coef 0\"\"\"\n",
    "    terms = []\n",
    "    for t in L:\n",
    "        if t.coef != 0:\n",
    "            terms.append(t)\n",
    "    return terms\n",
    "\n",
    "def poly_merge(L):\n",
    "    \"\"\"Merge like terms\"\"\"\n",
    "    terms = []\n",
    "    for k,g in groupby(L,particle_id):\n",
    "        G = list(g)\n",
    "        t = G[0]\n",
    "        for i in G[1:]:\n",
    "            t += i\n",
    "        terms.append(t)\n",
    "    return poly_trim(terms)"
   ]
  },
  {
   "cell_type": "markdown",
   "metadata": {},
   "source": [
    "This suffices to let us show polynomials correctly.\n",
    "\n",
    "Now we need to create methods to combine Atom, Particles, and MVPoly objects in a useful way. This will be our very simple computer algebra system. It needs to accomodate addition, subtraction, multiplication, and division as well as exponentiation by nonnegative integers.\n",
    "\n",
    "The primary complexity is that these operations do not have consistent results. For example *a + a* must produce a Particle object but *a + b* must produce an MVPoly object.\n",
    "\n",
    "For Atoms here are the functions we will use."
   ]
  },
  {
   "cell_type": "code",
   "execution_count": 10,
   "metadata": {},
   "outputs": [],
   "source": [
    "\n",
    "    def __add__(self,other):\n",
    "        \"\"\"Addition of atoms with other objects\"\"\"\n",
    "        return Particle([self]) + other\n",
    "\n",
    "\n",
    "    def __radd__(self,other):\n",
    "        \"\"\"Addition of atoms with other objects\"\"\"\n",
    "        return Particle([self]) + other\n",
    "\n",
    "\n",
    "    def __sub__(self,other):\n",
    "        \"\"\"Subtraction other objects from atoms\"\"\"\n",
    "        if type(other) == Atom:    \n",
    "            return Particle([self]) - Particle([other])\n",
    "        return Particle([self]) - other\n",
    "    \n",
    "    \n",
    "    def __rsub__(self,other):\n",
    "        \"\"\"Subtraction of atoms from other objects\"\"\"\n",
    "        return Particle([self],-1) + other\n",
    "\n",
    "\n",
    "    def __neg__(self):\n",
    "        return 0-self\n",
    "\n",
    "\n",
    "    def __mul__(self,other):\n",
    "        \"\"\"Multiply atoms with other objects\"\"\"\n",
    "        if type(other) == Atom:\n",
    "            # Atoms with different indeterminate sum their powers\n",
    "            if other.s == self.s:\n",
    "                return Atom(self.s,self.p+other.p)\n",
    "            else:\n",
    "                # Atoms with different indeterminate form a particle\n",
    "                return Particle([self,other])\n",
    "        if type(other) == Particle:\n",
    "            # When multiplied by a Particle use Particle multiplication\n",
    "            return other*self\n",
    "        # If it is something else make a particle with self as the \n",
    "        # indeterminate and other as the coefficient\n",
    "        return Particle([self],other)\n",
    "\n",
    "\n",
    "    def __rmul__(self,other):\n",
    "        \"\"\"Multiplication is commutative\"\"\"\n",
    "        return self*other\n",
    "\n",
    "\n",
    "    def __pow__(self,other):\n",
    "        \"\"\"Integer exponentiation\"\"\"\n",
    "        assert type(other) == int\n",
    "        assert other >= 0\n",
    "        return Atom(self.s,self.p*other)"
   ]
  },
  {
   "cell_type": "markdown",
   "metadata": {},
   "source": [
    "And then for Particles we need these for Particles"
   ]
  },
  {
   "cell_type": "code",
   "execution_count": 11,
   "metadata": {},
   "outputs": [],
   "source": [
    "    def __mul__(self,other):\n",
    "        # When multiplied by another particle merge their atoms then sort\n",
    "        if type(other) == Particle:\n",
    "            ownatoms = self.A.copy()\n",
    "            atomtypes = [c.s for c in ownatoms]\n",
    "            for a in other.A:\n",
    "                if a.s not in atomtypes:\n",
    "                    ownatoms.append(a)\n",
    "                else:\n",
    "                    for i in range(len(ownatoms)):\n",
    "                        if ownatoms[i].s == a.s:\n",
    "                            ownatoms[i] = ownatoms[i]*a\n",
    "            ownatoms = sorted(ownatoms)\n",
    "            return Particle(ownatoms,self.coef*other.coef)\n",
    "        \n",
    "        #  When multiplied by an atom merge the atom with it then sort\n",
    "        if type(other) == Atom:\n",
    "            ownatoms = self.A.copy()\n",
    "            atomtypes = [at.s for at in ownatoms]\n",
    "            if other.s not in atomtypes:\n",
    "                ownatoms.append(other)\n",
    "            else:\n",
    "                for i in range(len(ownatoms)):\n",
    "                    if ownatoms[i].s == other.s:\n",
    "                        ownatoms[i] = ownatoms[i]*other\n",
    "            ownatoms = sorted(ownatoms)\n",
    "            return Particle(ownatoms,self.coef)\n",
    "        \n",
    "        # When multiplied by an number just change the coefficient\n",
    "        return Particle(self.A,self.coef*other)\n",
    "\n",
    "\n",
    "    def __rmul__(self,other):\n",
    "        \"\"\"Multiplication is commutative\"\"\"\n",
    "        return self*other\n",
    "\n",
    "\n",
    "    def __add__(self,other):\n",
    "        if type(other) == Atom:\n",
    "            return MVPoly([self,Particle([other])])\n",
    "        if type(other) == Particle:\n",
    "            if self.particle_id() == other.particle_id():\n",
    "                return Particle(self.A,self.coef+other.coef)\n",
    "            else:\n",
    "                return MVPoly([self,other])\n",
    "        return MVPoly([self,Particle([],other)])\n",
    "\n",
    "\n",
    "    def __sub__(self,other):\n",
    "        if type(other) == Atom:\n",
    "            return MVPoly([self,Particle([other*-1])])\n",
    "        if type(other) == Particle:\n",
    "            return MVPoly([self,other*-1])\n",
    "        return MVPoly([self,Particle([],-other)])\n"
   ]
  },
  {
   "cell_type": "markdown",
   "metadata": {},
   "source": [
    "And finally for MVPoly"
   ]
  },
  {
   "cell_type": "code",
   "execution_count": 12,
   "metadata": {},
   "outputs": [],
   "source": [
    "    def __mul__(self,other):\n",
    "        \"\"\"Multiply together two polynomials\"\"\"\n",
    "        if type(other) == MVPoly:\n",
    "            out = []\n",
    "            for p in self.terms:\n",
    "                for q in other.terms:\n",
    "                    out.append(p*q)\n",
    "            return MVPoly(out)\n",
    "        else:\n",
    "            out = []\n",
    "            for p in self.terms:\n",
    "                out.append(p*other)\n",
    "            return MVPoly(out)\n",
    "\n",
    "    \n",
    "    def __add__(self,other):\n",
    "        \"\"\"Add together two polynomials\"\"\"\n",
    "        if type(other) == MVPoly:\n",
    "            return MVPoly(self.terms+other.terms)\n",
    "        if type(other) == Particle:\n",
    "            return MVPoly(self.terms+[other])\n",
    "        if type(other) == Atom:\n",
    "            return self + Particle([other])\n",
    "        return self + Particle([],other)"
   ]
  },
  {
   "cell_type": "markdown",
   "metadata": {},
   "source": []
  },
  {
   "cell_type": "code",
   "execution_count": 13,
   "metadata": {},
   "outputs": [
    {
     "name": "stdout",
     "output_type": "stream",
     "text": [
      "2a\n"
     ]
    }
   ],
   "source": [
    "from Polynomials import Atom\n",
    "\n",
    "a = Atom(\"a\")\n",
    "b = Atom(\"b\")\n",
    "\n",
    "print(a+a)"
   ]
  },
  {
   "cell_type": "code",
   "execution_count": null,
   "metadata": {},
   "outputs": [],
   "source": []
  },
  {
   "cell_type": "code",
   "execution_count": 14,
   "metadata": {},
   "outputs": [
    {
     "name": "stdout",
     "output_type": "stream",
     "text": [
      "a^2 + a\n"
     ]
    }
   ],
   "source": [
    "print(a+a*a)"
   ]
  },
  {
   "cell_type": "code",
   "execution_count": 15,
   "metadata": {},
   "outputs": [
    {
     "name": "stdout",
     "output_type": "stream",
     "text": [
      "ab - a + 1\n"
     ]
    }
   ],
   "source": [
    "print(1-a+a*b)"
   ]
  }
 ],
 "metadata": {
  "kernelspec": {
   "display_name": "Python 3",
   "language": "python",
   "name": "python3"
  },
  "language_info": {
   "codemirror_mode": {
    "name": "ipython",
    "version": 3
   },
   "file_extension": ".py",
   "mimetype": "text/x-python",
   "name": "python",
   "nbconvert_exporter": "python",
   "pygments_lexer": "ipython3",
   "version": "3.6.6"
  }
 },
 "nbformat": 4,
 "nbformat_minor": 2
}
