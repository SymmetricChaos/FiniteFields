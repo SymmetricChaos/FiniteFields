{
 "cells": [
  {
   "cell_type": "markdown",
   "metadata": {},
   "source": [
    "It is trivial to represnt a univariate polynomial on a computer simply as a list of coefficients for the terms. However creating a representation for a polynomial with multiple indeterminates is significantly more complicated. In particular we need to keep track of what indeterminates exist with what power in each and every term. Creating this directly would be a huge hassle.\n",
    "\n",
    "A better way to handle this problem is to create a very restricted computer algebra system that allows us to build up the polynomials we want from simpler parts. I can't take credit for this idea which I got from a 2004 paper by Brent Dingle.\n",
    "\n",
    "The first step is an Atom which just represents a single indeterminate raised to a power."
   ]
  },
  {
   "cell_type": "code",
   "execution_count": 1,
   "metadata": {},
   "outputs": [],
   "source": [
    "class Atom:    \n",
    "    def __init__(self,s,p=1):\n",
    "        assert type(s) == str\n",
    "        assert len(s) == 1\n",
    "        assert type(p) == int\n",
    "        assert p >= 1\n",
    "        \n",
    "        self.s = s\n",
    "        self.p = p"
   ]
  },
  {
   "cell_type": "markdown",
   "metadata": {},
   "source": [
    "We will define operations with Atoms so that specifying *p* isn't necessary in general.\n",
    "\n",
    "Next we will define a Particle which is a product of some Atoms with some coefficient that isn't an Atom. By not requiring that the coefficient be of any particular type we gain some forward compatibility if we have other numeric types. We also do not require that the Particle contain any Atoms at all which allows a Particle to be a constant."
   ]
  },
  {
   "cell_type": "code",
   "execution_count": 2,
   "metadata": {},
   "outputs": [],
   "source": [
    "class Particle:    \n",
    "    def __init__(self,A,coef=1):\n",
    "        assert type(A) == list\n",
    "        assert all([type(a) == Atom for a in A])\n",
    "        self.A = sorted(A)\n",
    "        self.coef = coef"
   ]
  },
  {
   "cell_type": "markdown",
   "metadata": {},
   "source": [
    "Note that the list of Atoms is sorted. We will see how this is done a bit later.\n",
    "\n",
    "Finally we have the MVPoly class which consists of a sum of several particles represented as a list."
   ]
  },
  {
   "cell_type": "code",
   "execution_count": 3,
   "metadata": {},
   "outputs": [],
   "source": [
    "class MVPoly:\n",
    "    def __init__(self,terms):\n",
    "        self.terms = poly_merge(sorted(terms))\n"
   ]
  },
  {
   "cell_type": "markdown",
   "metadata": {},
   "source": [
    "Again we will introduce what it means to sort and merge the terms of an MVPoly object later. \n",
    "\n",
    "To start with we want our classes to display themselves in a way that is easily comprehensible. This will make it much easier to check that things are working properly as we continue. For Atoms it is very simple. We just need to show the Atom being rasied to a power. The only special case is when the power is equal to 1 when we leave it out."
   ]
  },
  {
   "cell_type": "code",
   "execution_count": null,
   "metadata": {},
   "outputs": [],
   "source": [
    "    def __str__(self):\n",
    "        \"\"\"Print the Atom\"\"\"\n",
    "        if self.p == 1:\n",
    "            return f\"{self.s}\"            \n",
    "        return f\"{self.s}^{self.p}\""
   ]
  },
  {
   "cell_type": "markdown",
   "metadata": {},
   "source": [
    "For Particles, which could contain any number of Atoms, along with a coefficient things are singificantly more complicated with a lot of special cases. However having defined the way that Atoms should print simplified things a lot."
   ]
  },
  {
   "cell_type": "code",
   "execution_count": null,
   "metadata": {},
   "outputs": [],
   "source": [
    "    def __str__(self):\n",
    "        \"\"\"Print the Particle\"\"\"\n",
    "        if self.A == []:\n",
    "            return str(self.coef)\n",
    "        if self.coef == 1:\n",
    "            out = \"\"\n",
    "        elif self.coef == -1:\n",
    "            out = \"-\"\n",
    "        else:\n",
    "            out = str(self.coef)\n",
    "        for a in self.A:\n",
    "            out += str(a)\n",
    "        return out"
   ]
  },
  {
   "cell_type": "code",
   "execution_count": null,
   "metadata": {},
   "outputs": [],
   "source": []
  },
  {
   "cell_type": "code",
   "execution_count": null,
   "metadata": {},
   "outputs": [],
   "source": []
  }
 ],
 "metadata": {
  "kernelspec": {
   "display_name": "Python 3",
   "language": "python",
   "name": "python3"
  },
  "language_info": {
   "codemirror_mode": {
    "name": "ipython",
    "version": 3
   },
   "file_extension": ".py",
   "mimetype": "text/x-python",
   "name": "python",
   "nbconvert_exporter": "python",
   "pygments_lexer": "ipython3",
   "version": "3.6.6"
  }
 },
 "nbformat": 4,
 "nbformat_minor": 2
}
