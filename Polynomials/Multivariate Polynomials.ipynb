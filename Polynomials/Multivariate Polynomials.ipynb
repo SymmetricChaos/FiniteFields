{
 "cells": [
  {
   "cell_type": "markdown",
   "metadata": {},
   "source": [
    "It is trivial to represnt a univariate polynomial on a computer simply as a list of coefficients for the terms. However creating a representation for a polynomial with multiple indeterminates is significantly more complicated. In particular we need to keep track of what indeterminates exist with what power in each and every term. Creating this directly would be a huge hassle.\n",
    "\n",
    "A better way to handle this problem is to create a very restricted computer algebra system that allows us to build up the polynomials we want from simpler parts. I can't take credit for this idea which I got from a 2004 paper by Brent Dingle.\n",
    "\n",
    "The first step is an Atom wi"
   ]
  },
  {
   "cell_type": "code",
   "execution_count": null,
   "metadata": {},
   "outputs": [],
   "source": []
  },
  {
   "cell_type": "code",
   "execution_count": null,
   "metadata": {},
   "outputs": [],
   "source": []
  },
  {
   "cell_type": "code",
   "execution_count": null,
   "metadata": {},
   "outputs": [],
   "source": []
  }
 ],
 "metadata": {
  "kernelspec": {
   "display_name": "Python 3",
   "language": "python",
   "name": "python3"
  },
  "language_info": {
   "codemirror_mode": {
    "name": "ipython",
    "version": 3
   },
   "file_extension": ".py",
   "mimetype": "text/x-python",
   "name": "python",
   "nbconvert_exporter": "python",
   "pygments_lexer": "ipython3",
   "version": "3.6.6"
  }
 },
 "nbformat": 4,
 "nbformat_minor": 2
}
